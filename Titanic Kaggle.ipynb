{
 "cells": [
  {
   "cell_type": "markdown",
   "metadata": {},
   "source": [
    "**This Titanic case competition's goal is to predict whether a passenger would survive the crash of Titanic based on different features such as passenger class, gender, fare fee, and so on. It is a binary classification problem, so I will use classification models such as logistic regression, support vector machine, random forest, K-Nearest Neighbors, and XGBoost to compare which model performs best. I will also use Randomized Search Grid Search to fine-tune hyperparameters to improve model performance.**"
   ]
  },
  {
   "cell_type": "markdown",
   "metadata": {},
   "source": [
    "My notebook will follow the outline below, which helps me to organize my thoughts and makes this notebook easier to read and follow.\n",
    "\n",
    "1. **Data Importing**: Read the data file and combine training and test data together\n",
    "\n",
    "2. **Exploratory Data Analysis**: In this section, I will understand the dataset by using .corr(), .describe(), pivot table, and visualization tools. I will find relationships between variables and some interesting insights from the data.\n",
    "\n",
    "3. **Feature Engineering**: There are less than 15 variables in this dataset, so I will create more variables by creating dummy variables and customizing a couple of features. Hopefully, the new features created could help boost the model performance.\n",
    "\n",
    "4. **Data Processing**: Standardize numerical variables. Getting data ready for modeling\n",
    "\n",
    "5. **Model Building**: I will use baseline models without fine-tuning hyperparameters\n",
    "\n",
    "6. **Hyperparameters Fine-tuning**: I will fine-tune hyperparameters of the models I use\n",
    "\n",
    "7. **Results**: I will compare models' performance and use the best model to predict the test dataset."
   ]
  },
  {
   "cell_type": "code",
   "execution_count": 195,
   "metadata": {
    "ExecuteTime": {
     "end_time": "2021-02-07T18:08:42.912296Z",
     "start_time": "2021-02-07T18:08:42.907310Z"
    }
   },
   "outputs": [],
   "source": [
    "import pandas as pd\n",
    "import numpy as np\n",
    "import seaborn as sns\n",
    "import matplotlib.pyplot as plt\n",
    "from pprint import pprint\n",
    "from sklearn.preprocessing import StandardScaler\n",
    "from sklearn.model_selection import KFold\n",
    "from sklearn.model_selection import cross_val_score\n",
    "from sklearn.linear_model import LogisticRegression\n",
    "from sklearn.svm import SVC\n",
    "from sklearn.neighbors import KNeighborsClassifier\n",
    "from sklearn.ensemble import RandomForestClassifier\n",
    "from xgboost import XGBClassifier\n",
    "from sklearn.model_selection import RandomizedSearchCV\n",
    "from sklearn.model_selection import GridSearchCV"
   ]
  },
  {
   "cell_type": "markdown",
   "metadata": {},
   "source": [
    "## Data Importing"
   ]
  },
  {
   "cell_type": "code",
   "execution_count": 158,
   "metadata": {
    "ExecuteTime": {
     "end_time": "2021-02-07T17:26:01.058523Z",
     "start_time": "2021-02-07T17:26:01.040569Z"
    }
   },
   "outputs": [],
   "source": [
    "train = pd.read_csv('train.csv')\n",
    "test = pd.read_csv('test.csv')\n",
    "data = pd.concat([titanic_train, titanic_test]).reset_index()\n",
    "data.drop('index', axis=1, inplace=True)\n",
    "\n",
    "# Dropping the 'PassengerId' column\n",
    "train.drop('PassengerId', axis=1, inplace=True)\n",
    "test.drop('PassengerId', axis=1, inplace=True)\n",
    "data.drop('PassengerId', axis=1, inplace=True)"
   ]
  },
  {
   "cell_type": "markdown",
   "metadata": {},
   "source": [
    "## Exploratory Data Analysis"
   ]
  },
  {
   "cell_type": "markdown",
   "metadata": {},
   "source": [
    "In this section, I will perform EDA on the training dataset first because only data in the training dataset are labeled, so I can find the relationship between variables and the target variable. Also, insights from the training dataset also apply to the test dataset. "
   ]
  },
  {
   "cell_type": "markdown",
   "metadata": {
    "ExecuteTime": {
     "end_time": "2021-02-06T15:55:19.720107Z",
     "start_time": "2021-02-06T15:55:19.703153Z"
    }
   },
   "source": [
    "A simple guideline for basic EDA:\n",
    "\n",
    "**For Numerical Variables**:\n",
    "\n",
    "1. Using .corr(), .describe() to learn corrlation and central tendency of data.\n",
    "2. Pivot table to learn mean numeric values for those who survived and not.\n",
    "3. Visualize the distribution of data.\n",
    "\n",
    "**For Categorical Variables**:\n",
    "\n",
    "1. Using countplot to visualize the balance of each class.\n",
    "2. Pivot table to find the relationship between each category and survival status."
   ]
  },
  {
   "cell_type": "code",
   "execution_count": 15,
   "metadata": {
    "ExecuteTime": {
     "end_time": "2021-02-06T16:13:07.581447Z",
     "start_time": "2021-02-06T16:13:07.571475Z"
    }
   },
   "outputs": [
    {
     "name": "stdout",
     "output_type": "stream",
     "text": [
      "<class 'pandas.core.frame.DataFrame'>\n",
      "RangeIndex: 891 entries, 0 to 890\n",
      "Data columns (total 11 columns):\n",
      " #   Column    Non-Null Count  Dtype  \n",
      "---  ------    --------------  -----  \n",
      " 0   Survived  891 non-null    int64  \n",
      " 1   Pclass    891 non-null    int64  \n",
      " 2   Name      891 non-null    object \n",
      " 3   Sex       891 non-null    object \n",
      " 4   Age       714 non-null    float64\n",
      " 5   SibSp     891 non-null    int64  \n",
      " 6   Parch     891 non-null    int64  \n",
      " 7   Ticket    891 non-null    object \n",
      " 8   Fare      891 non-null    float64\n",
      " 9   Cabin     204 non-null    object \n",
      " 10  Embarked  889 non-null    object \n",
      "dtypes: float64(2), int64(4), object(5)\n",
      "memory usage: 76.7+ KB\n"
     ]
    }
   ],
   "source": [
    "# Checking for missing values and data types\n",
    "train.info()"
   ]
  },
  {
   "cell_type": "code",
   "execution_count": 14,
   "metadata": {
    "ExecuteTime": {
     "end_time": "2021-02-06T16:12:17.740344Z",
     "start_time": "2021-02-06T16:12:17.324456Z"
    }
   },
   "outputs": [
    {
     "data": {
      "text/html": [
       "<div>\n",
       "<style scoped>\n",
       "    .dataframe tbody tr th:only-of-type {\n",
       "        vertical-align: middle;\n",
       "    }\n",
       "\n",
       "    .dataframe tbody tr th {\n",
       "        vertical-align: top;\n",
       "    }\n",
       "\n",
       "    .dataframe thead th {\n",
       "        text-align: right;\n",
       "    }\n",
       "</style>\n",
       "<table border=\"1\" class=\"dataframe\">\n",
       "  <thead>\n",
       "    <tr style=\"text-align: right;\">\n",
       "      <th></th>\n",
       "      <th>Survived</th>\n",
       "      <th>Pclass</th>\n",
       "      <th>Age</th>\n",
       "      <th>SibSp</th>\n",
       "      <th>Parch</th>\n",
       "      <th>Fare</th>\n",
       "    </tr>\n",
       "  </thead>\n",
       "  <tbody>\n",
       "    <tr>\n",
       "      <th>count</th>\n",
       "      <td>891.000000</td>\n",
       "      <td>891.000000</td>\n",
       "      <td>714.000000</td>\n",
       "      <td>891.000000</td>\n",
       "      <td>891.000000</td>\n",
       "      <td>891.000000</td>\n",
       "    </tr>\n",
       "    <tr>\n",
       "      <th>mean</th>\n",
       "      <td>0.383838</td>\n",
       "      <td>2.308642</td>\n",
       "      <td>29.699118</td>\n",
       "      <td>0.523008</td>\n",
       "      <td>0.381594</td>\n",
       "      <td>32.204208</td>\n",
       "    </tr>\n",
       "    <tr>\n",
       "      <th>std</th>\n",
       "      <td>0.486592</td>\n",
       "      <td>0.836071</td>\n",
       "      <td>14.526497</td>\n",
       "      <td>1.102743</td>\n",
       "      <td>0.806057</td>\n",
       "      <td>49.693429</td>\n",
       "    </tr>\n",
       "    <tr>\n",
       "      <th>min</th>\n",
       "      <td>0.000000</td>\n",
       "      <td>1.000000</td>\n",
       "      <td>0.420000</td>\n",
       "      <td>0.000000</td>\n",
       "      <td>0.000000</td>\n",
       "      <td>0.000000</td>\n",
       "    </tr>\n",
       "    <tr>\n",
       "      <th>25%</th>\n",
       "      <td>0.000000</td>\n",
       "      <td>2.000000</td>\n",
       "      <td>20.125000</td>\n",
       "      <td>0.000000</td>\n",
       "      <td>0.000000</td>\n",
       "      <td>7.910400</td>\n",
       "    </tr>\n",
       "    <tr>\n",
       "      <th>50%</th>\n",
       "      <td>0.000000</td>\n",
       "      <td>3.000000</td>\n",
       "      <td>28.000000</td>\n",
       "      <td>0.000000</td>\n",
       "      <td>0.000000</td>\n",
       "      <td>14.454200</td>\n",
       "    </tr>\n",
       "    <tr>\n",
       "      <th>75%</th>\n",
       "      <td>1.000000</td>\n",
       "      <td>3.000000</td>\n",
       "      <td>38.000000</td>\n",
       "      <td>1.000000</td>\n",
       "      <td>0.000000</td>\n",
       "      <td>31.000000</td>\n",
       "    </tr>\n",
       "    <tr>\n",
       "      <th>max</th>\n",
       "      <td>1.000000</td>\n",
       "      <td>3.000000</td>\n",
       "      <td>80.000000</td>\n",
       "      <td>8.000000</td>\n",
       "      <td>6.000000</td>\n",
       "      <td>512.329200</td>\n",
       "    </tr>\n",
       "  </tbody>\n",
       "</table>\n",
       "</div>"
      ],
      "text/plain": [
       "         Survived      Pclass         Age       SibSp       Parch        Fare\n",
       "count  891.000000  891.000000  714.000000  891.000000  891.000000  891.000000\n",
       "mean     0.383838    2.308642   29.699118    0.523008    0.381594   32.204208\n",
       "std      0.486592    0.836071   14.526497    1.102743    0.806057   49.693429\n",
       "min      0.000000    1.000000    0.420000    0.000000    0.000000    0.000000\n",
       "25%      0.000000    2.000000   20.125000    0.000000    0.000000    7.910400\n",
       "50%      0.000000    3.000000   28.000000    0.000000    0.000000   14.454200\n",
       "75%      1.000000    3.000000   38.000000    1.000000    0.000000   31.000000\n",
       "max      1.000000    3.000000   80.000000    8.000000    6.000000  512.329200"
      ]
     },
     "execution_count": 14,
     "metadata": {},
     "output_type": "execute_result"
    }
   ],
   "source": [
    "train.describe()"
   ]
  },
  {
   "cell_type": "markdown",
   "metadata": {},
   "source": [
    "Because Age, SibSp, Parch, and Fare have very different ranges of values, using **StandardScaler** later might decrease model's bias towards Fare and Age."
   ]
  },
  {
   "cell_type": "code",
   "execution_count": 18,
   "metadata": {
    "ExecuteTime": {
     "end_time": "2021-02-06T16:15:11.329608Z",
     "start_time": "2021-02-06T16:15:11.058335Z"
    },
    "scrolled": true
   },
   "outputs": [
    {
     "data": {
      "image/png": "[encoded data removed]",
      "text/plain": [
       "<Figure size 432x288 with 1 Axes>"
      ]
     },
     "metadata": {
      "needs_background": "light"
     },
     "output_type": "display_data"
    },
    {
     "data": {
      "image/png": "[encoded data removed]",
      "text/plain": [
       "<Figure size 432x288 with 1 Axes>"
      ]
     },
     "metadata": {
      "needs_background": "light"
     },
     "output_type": "display_data"
    },
    {
     "data": {
      "image/png": "[encoded data removed]",
      "text/plain": [
       "<Figure size 432x288 with 1 Axes>"
      ]
     },
     "metadata": {
      "needs_background": "light"
     },
     "output_type": "display_data"
    },
    {
     "data": {
      "image/png": "[encoded data removed]",
      "text/plain": [
       "<Figure size 432x288 with 1 Axes>"
      ]
     },
     "metadata": {
      "needs_background": "light"
     },
     "output_type": "display_data"
    }
   ],
   "source": [
    "for column in ['Age', 'SibSp', 'Parch', 'Fare']:\n",
    "    sns.boxplot(data=train, y=column, color='lightblue')\n",
    "    plt.show()"
   ]
  },
  {
   "cell_type": "code",
   "execution_count": 13,
   "metadata": {
    "ExecuteTime": {
     "end_time": "2021-02-06T16:10:39.368340Z",
     "start_time": "2021-02-06T16:10:39.154911Z"
    }
   },
   "outputs": [
    {
     "name": "stdout",
     "output_type": "stream",
     "text": [
      "          Survived    Pclass       Age     SibSp     Parch      Fare\n",
      "Survived  1.000000 -0.338481 -0.077221 -0.035322  0.081629  0.257307\n",
      "Pclass   -0.338481  1.000000 -0.369226  0.083081  0.018443 -0.549500\n",
      "Age      -0.077221 -0.369226  1.000000 -0.308247 -0.189119  0.096067\n",
      "SibSp    -0.035322  0.083081 -0.308247  1.000000  0.414838  0.159651\n",
      "Parch     0.081629  0.018443 -0.189119  0.414838  1.000000  0.216225\n",
      "Fare      0.257307 -0.549500  0.096067  0.159651  0.216225  1.000000\n"
     ]
    },
    {
     "data": {
      "text/plain": [
       "<matplotlib.axes._subplots.AxesSubplot at 0x22549f9b070>"
      ]
     },
     "execution_count": 13,
     "metadata": {},
     "output_type": "execute_result"
    },
    {
     "data": {
      "image/png": "[encoded data removed]",
      "text/plain": [
       "<Figure size 576x360 with 2 Axes>"
      ]
     },
     "metadata": {
      "needs_background": "light"
     },
     "output_type": "display_data"
    }
   ],
   "source": [
    "print(train.corr())\n",
    "plt.figure(figsize=(8,5))\n",
    "sns.heatmap(train.corr(), cmap='Blues', annot=True, fmt='.2f')"
   ]
  },
  {
   "cell_type": "markdown",
   "metadata": {},
   "source": [
    "Pclass and Fare are most correlated with survival status. One interesting finding: Age and Pclass are negatively correlated."
   ]
  },
  {
   "cell_type": "code",
   "execution_count": 20,
   "metadata": {
    "ExecuteTime": {
     "end_time": "2021-02-06T16:33:04.547157Z",
     "start_time": "2021-02-06T16:33:04.529204Z"
    }
   },
   "outputs": [
    {
     "data": {
      "text/html": [
       "<div>\n",
       "<style scoped>\n",
       "    .dataframe tbody tr th:only-of-type {\n",
       "        vertical-align: middle;\n",
       "    }\n",
       "\n",
       "    .dataframe tbody tr th {\n",
       "        vertical-align: top;\n",
       "    }\n",
       "\n",
       "    .dataframe thead th {\n",
       "        text-align: right;\n",
       "    }\n",
       "</style>\n",
       "<table border=\"1\" class=\"dataframe\">\n",
       "  <thead>\n",
       "    <tr style=\"text-align: right;\">\n",
       "      <th></th>\n",
       "      <th>Age</th>\n",
       "      <th>Fare</th>\n",
       "      <th>Parch</th>\n",
       "      <th>SibSp</th>\n",
       "    </tr>\n",
       "    <tr>\n",
       "      <th>Survived</th>\n",
       "      <th></th>\n",
       "      <th></th>\n",
       "      <th></th>\n",
       "      <th></th>\n",
       "    </tr>\n",
       "  </thead>\n",
       "  <tbody>\n",
       "    <tr>\n",
       "      <th>0</th>\n",
       "      <td>30.626179</td>\n",
       "      <td>22.117887</td>\n",
       "      <td>0.329690</td>\n",
       "      <td>0.553734</td>\n",
       "    </tr>\n",
       "    <tr>\n",
       "      <th>1</th>\n",
       "      <td>28.343690</td>\n",
       "      <td>48.395408</td>\n",
       "      <td>0.464912</td>\n",
       "      <td>0.473684</td>\n",
       "    </tr>\n",
       "  </tbody>\n",
       "</table>\n",
       "</div>"
      ],
      "text/plain": [
       "                Age       Fare     Parch     SibSp\n",
       "Survived                                          \n",
       "0         30.626179  22.117887  0.329690  0.553734\n",
       "1         28.343690  48.395408  0.464912  0.473684"
      ]
     },
     "execution_count": 20,
     "metadata": {},
     "output_type": "execute_result"
    }
   ],
   "source": [
    "# Compare mean numeric values for both survival status\n",
    "pd.pivot_table(train, index = 'Survived', values = ['Age', 'SibSp', 'Parch', 'Fare'])"
   ]
  },
  {
   "cell_type": "markdown",
   "metadata": {},
   "source": [
    "Some interesting findings here that make a lot of sense intuitively: people who survived were averagely two years younger than those who didn't; people who purchased a more expensive ticket averagely had a better survival rate."
   ]
  },
  {
   "cell_type": "code",
   "execution_count": 23,
   "metadata": {
    "ExecuteTime": {
     "end_time": "2021-02-06T16:35:46.219163Z",
     "start_time": "2021-02-06T16:35:45.748422Z"
    },
    "scrolled": true
   },
   "outputs": [
    {
     "data": {
      "image/png": "[encoded data removed]",
      "text/plain": [
       "<Figure size 432x288 with 1 Axes>"
      ]
     },
     "metadata": {
      "needs_background": "light"
     },
     "output_type": "display_data"
    },
    {
     "data": {
      "image/png": "[encoded data removed]",
      "text/plain": [
       "<Figure size 432x288 with 1 Axes>"
      ]
     },
     "metadata": {
      "needs_background": "light"
     },
     "output_type": "display_data"
    },
    {
     "data": {
      "image/png": "[encoded data removed]",
      "text/plain": [
       "<Figure size 432x288 with 1 Axes>"
      ]
     },
     "metadata": {
      "needs_background": "light"
     },
     "output_type": "display_data"
    },
    {
     "data": {
      "image/png": "[encoded data removed]",
      "text/plain": [
       "<Figure size 432x288 with 1 Axes>"
      ]
     },
     "metadata": {
      "needs_background": "light"
     },
     "output_type": "display_data"
    }
   ],
   "source": [
    "# Visualize the distribution of numeric categories \n",
    "for column in ['Age', 'Fare', 'Parch', 'SibSp']:\n",
    "    train[column].plot(kind = 'hist')\n",
    "    plt.xlabel(column)\n",
    "    plt.show()"
   ]
  },
  {
   "cell_type": "markdown",
   "metadata": {},
   "source": [
    "Like I mentioned above, the four numeric variables have different ranges, so I will use StandardScaler to change their values to a common scale to remove model's bias towards Fare or Age, which have a larger value range."
   ]
  },
  {
   "cell_type": "code",
   "execution_count": 33,
   "metadata": {
    "ExecuteTime": {
     "end_time": "2021-02-06T16:45:22.853266Z",
     "start_time": "2021-02-06T16:45:16.395531Z"
    }
   },
   "outputs": [
    {
     "data": {
      "image/png": "[encoded data removed]",
      "text/plain": [
       "<Figure size 432x288 with 1 Axes>"
      ]
     },
     "metadata": {
      "needs_background": "light"
     },
     "output_type": "display_data"
    },
    {
     "data": {
      "image/png": "[encoded data removed]",
      "text/plain": [
       "<Figure size 432x288 with 1 Axes>"
      ]
     },
     "metadata": {
      "needs_background": "light"
     },
     "output_type": "display_data"
    },
    {
     "data": {
      "image/png": "[encoded data removed]",
      "text/plain": [
       "<Figure size 432x288 with 1 Axes>"
      ]
     },
     "metadata": {
      "needs_background": "light"
     },
     "output_type": "display_data"
    },
    {
     "data": {
      "image/png": "[encoded data removed]",
      "text/plain": [
       "<Figure size 432x288 with 1 Axes>"
      ]
     },
     "metadata": {
      "needs_background": "light"
     },
     "output_type": "display_data"
    },
    {
     "data": {
      "image/png": "[encoded data removed]",
      "text/plain": [
       "<Figure size 432x288 with 1 Axes>"
      ]
     },
     "metadata": {
      "needs_background": "light"
     },
     "output_type": "display_data"
    },
    {
     "data": {
      "image/png": "[encoded data removed]",
      "text/plain": [
       "<Figure size 432x288 with 1 Axes>"
      ]
     },
     "metadata": {
      "needs_background": "light"
     },
     "output_type": "display_data"
    },
    {
     "data": {
      "image/png": "[encoded data removed]",
      "text/plain": [
       "<Figure size 432x288 with 1 Axes>"
      ]
     },
     "metadata": {
      "needs_background": "light"
     },
     "output_type": "display_data"
    }
   ],
   "source": [
    "# Use a countplot to check the distribution of category variables\n",
    "for column in ['Pclass', 'Sex', 'SibSp','Parch','Embarked', 'Ticket', 'Cabin']:\n",
    "    sns.countplot(data=train, x=column, color='skyblue').set_title(column)\n",
    "    plt.show()"
   ]
  },
  {
   "cell_type": "code",
   "execution_count": 44,
   "metadata": {
    "ExecuteTime": {
     "end_time": "2021-02-06T16:52:32.755982Z",
     "start_time": "2021-02-06T16:52:32.711103Z"
    }
   },
   "outputs": [
    {
     "name": "stdout",
     "output_type": "stream",
     "text": [
      "Pclass      1   2    3\n",
      "Survived              \n",
      "0          80  97  372\n",
      "1         136  87  119\n",
      "\n",
      "Sex       female  male\n",
      "Survived              \n",
      "0             81   468\n",
      "1            233   109\n",
      "\n",
      "Embarked   C   Q    S\n",
      "Survived             \n",
      "0         75  47  427\n",
      "1         93  30  217\n",
      "\n",
      "SibSp         0      1     2     3     4    5    8\n",
      "Survived                                          \n",
      "0         398.0   97.0  15.0  12.0  15.0  5.0  7.0\n",
      "1         210.0  112.0  13.0   4.0   3.0  NaN  NaN\n",
      "\n",
      "Parch         0     1     2    3    4    5    6\n",
      "Survived                                       \n",
      "0         445.0  53.0  40.0  2.0  4.0  4.0  1.0\n",
      "1         233.0  65.0  40.0  3.0  NaN  1.0  NaN\n",
      "\n"
     ]
    }
   ],
   "source": [
    "# Compare survival rate across different categories\n",
    "# Included SipSp and Parch \n",
    "for column in ['Pclass', 'Sex', 'Embarked', 'SibSp', 'Parch']:\n",
    "    print(pd.pivot_table(train, index='Survived', columns=column, values='Ticket', aggfunc='count'))\n",
    "    print()"
   ]
  },
  {
   "cell_type": "markdown",
   "metadata": {},
   "source": [
    "## Feature Engineering - Training Dataset"
   ]
  },
  {
   "cell_type": "markdown",
   "metadata": {},
   "source": [
    "- Three interesting columns that I will use to create more features: Name, Ticket, and Cabin"
   ]
  },
  {
   "cell_type": "code",
   "execution_count": 69,
   "metadata": {
    "ExecuteTime": {
     "end_time": "2021-02-07T15:38:28.557011Z",
     "start_time": "2021-02-07T15:38:28.550031Z"
    }
   },
   "outputs": [],
   "source": [
    "# Create a new column that extracts the first string character of Cabin\n",
    "train['Cabin_Letter'] = train['Cabin'].apply(lambda x:0 if pd.isna(x) else x[0])\n",
    "\n",
    "# Create a new column that indicates how many cabins each individual owns\n",
    "train['Cabin_Total'] = train['Cabin'].apply(lambda x:0 if pd.isna(x) else len(x.split(' ')))"
   ]
  },
  {
   "cell_type": "code",
   "execution_count": 77,
   "metadata": {
    "ExecuteTime": {
     "end_time": "2021-02-07T15:42:24.906277Z",
     "start_time": "2021-02-07T15:42:24.882341Z"
    }
   },
   "outputs": [
    {
     "name": "stdout",
     "output_type": "stream",
     "text": [
      "Cabin_Letter      0    A     B     C     D     E    F    G    T\n",
      "Survived                                                       \n",
      "0             481.0  8.0  12.0  24.0   8.0   8.0  5.0  2.0  1.0\n",
      "1             206.0  7.0  35.0  35.0  25.0  24.0  8.0  2.0  NaN\n",
      "\n",
      "Cabin_Total      0      1    2    3    4\n",
      "Survived                                \n",
      "0            481.0   58.0  7.0  3.0  NaN\n",
      "1            206.0  122.0  9.0  3.0  2.0\n"
     ]
    }
   ],
   "source": [
    "# Pivot table to understand survival numbers across different cabin categories and different total cabin numbers\n",
    "print(pd.pivot_table(train, index='Survived', columns='Cabin_Letter', values='Name', aggfunc='count'))\n",
    "print()\n",
    "print(pd.pivot_table(train, index='Survived', columns='Cabin_Total', values='Name', aggfunc='count'))"
   ]
  },
  {
   "cell_type": "markdown",
   "metadata": {},
   "source": [
    "It is very interesting that except people who didn't have cabins, people who had at least one cabin had an averagely higher survival rate. For example, for those who had one cabin, almost 75% survived; however, only less than half of people who didn't have a cabin survived. Based on the analysis of people who had more than one cabin, this is not a coincidence."
   ]
  },
  {
   "cell_type": "code",
   "execution_count": 84,
   "metadata": {
    "ExecuteTime": {
     "end_time": "2021-02-07T15:53:10.238068Z",
     "start_time": "2021-02-07T15:53:09.802235Z"
    }
   },
   "outputs": [],
   "source": [
    "# Feature engineering using Name column, extracting title from each person's name\n",
    "train['Title'] = train['Name'].apply(lambda x: x.split(' ')[1].split('.')[0])"
   ]
  },
  {
   "cell_type": "code",
   "execution_count": 86,
   "metadata": {
    "ExecuteTime": {
     "end_time": "2021-02-07T15:53:58.800238Z",
     "start_time": "2021-02-07T15:53:58.775305Z"
    }
   },
   "outputs": [
    {
     "data": {
      "text/html": [
       "<div>\n",
       "<style scoped>\n",
       "    .dataframe tbody tr th:only-of-type {\n",
       "        vertical-align: middle;\n",
       "    }\n",
       "\n",
       "    .dataframe tbody tr th {\n",
       "        vertical-align: top;\n",
       "    }\n",
       "\n",
       "    .dataframe thead th {\n",
       "        text-align: right;\n",
       "    }\n",
       "</style>\n",
       "<table border=\"1\" class=\"dataframe\">\n",
       "  <thead>\n",
       "    <tr style=\"text-align: right;\">\n",
       "      <th>Title</th>\n",
       "      <th>Billiard,</th>\n",
       "      <th>Capt</th>\n",
       "      <th>Carlo,</th>\n",
       "      <th>Col</th>\n",
       "      <th>Cruyssen,</th>\n",
       "      <th>Don</th>\n",
       "      <th>Dr</th>\n",
       "      <th>Gordon,</th>\n",
       "      <th>Impe,</th>\n",
       "      <th>Jonkheer</th>\n",
       "      <th>...</th>\n",
       "      <th>Pelsmaeker,</th>\n",
       "      <th>Planke,</th>\n",
       "      <th>Rev</th>\n",
       "      <th>Shawah,</th>\n",
       "      <th>Steen,</th>\n",
       "      <th>Velde,</th>\n",
       "      <th>Walle,</th>\n",
       "      <th>der</th>\n",
       "      <th>the</th>\n",
       "      <th>y</th>\n",
       "    </tr>\n",
       "    <tr>\n",
       "      <th>Survived</th>\n",
       "      <th></th>\n",
       "      <th></th>\n",
       "      <th></th>\n",
       "      <th></th>\n",
       "      <th></th>\n",
       "      <th></th>\n",
       "      <th></th>\n",
       "      <th></th>\n",
       "      <th></th>\n",
       "      <th></th>\n",
       "      <th></th>\n",
       "      <th></th>\n",
       "      <th></th>\n",
       "      <th></th>\n",
       "      <th></th>\n",
       "      <th></th>\n",
       "      <th></th>\n",
       "      <th></th>\n",
       "      <th></th>\n",
       "      <th></th>\n",
       "      <th></th>\n",
       "    </tr>\n",
       "  </thead>\n",
       "  <tbody>\n",
       "    <tr>\n",
       "      <th>0</th>\n",
       "      <td>1.0</td>\n",
       "      <td>1.0</td>\n",
       "      <td>1.0</td>\n",
       "      <td>1.0</td>\n",
       "      <td>1.0</td>\n",
       "      <td>1.0</td>\n",
       "      <td>4.0</td>\n",
       "      <td>NaN</td>\n",
       "      <td>3.0</td>\n",
       "      <td>1.0</td>\n",
       "      <td>...</td>\n",
       "      <td>1.0</td>\n",
       "      <td>3.0</td>\n",
       "      <td>6.0</td>\n",
       "      <td>1.0</td>\n",
       "      <td>1.0</td>\n",
       "      <td>1.0</td>\n",
       "      <td>1.0</td>\n",
       "      <td>1.0</td>\n",
       "      <td>NaN</td>\n",
       "      <td>1.0</td>\n",
       "    </tr>\n",
       "    <tr>\n",
       "      <th>1</th>\n",
       "      <td>NaN</td>\n",
       "      <td>NaN</td>\n",
       "      <td>NaN</td>\n",
       "      <td>1.0</td>\n",
       "      <td>NaN</td>\n",
       "      <td>NaN</td>\n",
       "      <td>3.0</td>\n",
       "      <td>2.0</td>\n",
       "      <td>NaN</td>\n",
       "      <td>NaN</td>\n",
       "      <td>...</td>\n",
       "      <td>NaN</td>\n",
       "      <td>NaN</td>\n",
       "      <td>NaN</td>\n",
       "      <td>NaN</td>\n",
       "      <td>NaN</td>\n",
       "      <td>NaN</td>\n",
       "      <td>NaN</td>\n",
       "      <td>NaN</td>\n",
       "      <td>1.0</td>\n",
       "      <td>3.0</td>\n",
       "    </tr>\n",
       "  </tbody>\n",
       "</table>\n",
       "<p>2 rows × 31 columns</p>\n",
       "</div>"
      ],
      "text/plain": [
       "Title     Billiard,  Capt  Carlo,  Col  Cruyssen,  Don   Dr  Gordon,  Impe,  \\\n",
       "Survived                                                                      \n",
       "0               1.0   1.0     1.0  1.0        1.0  1.0  4.0      NaN    3.0   \n",
       "1               NaN   NaN     NaN  1.0        NaN  NaN  3.0      2.0    NaN   \n",
       "\n",
       "Title     Jonkheer  ...  Pelsmaeker,  Planke,  Rev  Shawah,  Steen,  Velde,  \\\n",
       "Survived            ...                                                       \n",
       "0              1.0  ...          1.0      3.0  6.0      1.0     1.0     1.0   \n",
       "1              NaN  ...          NaN      NaN  NaN      NaN     NaN     NaN   \n",
       "\n",
       "Title     Walle,  der  the    y  \n",
       "Survived                         \n",
       "0            1.0  1.0  NaN  1.0  \n",
       "1            NaN  NaN  1.0  3.0  \n",
       "\n",
       "[2 rows x 31 columns]"
      ]
     },
     "execution_count": 86,
     "metadata": {},
     "output_type": "execute_result"
    }
   ],
   "source": [
    "pd.pivot_table(train, index='Survived', columns='Title', values='Name', aggfunc='count')"
   ]
  },
  {
   "cell_type": "code",
   "execution_count": 87,
   "metadata": {
    "ExecuteTime": {
     "end_time": "2021-02-07T15:54:20.057260Z",
     "start_time": "2021-02-07T15:54:20.049282Z"
    },
    "scrolled": true
   },
   "outputs": [
    {
     "data": {
      "text/plain": [
       "Mr              502\n",
       "Miss            179\n",
       "Mrs             121\n",
       "Master           40\n",
       "Dr                7\n",
       "Rev               6\n",
       "y                 4\n",
       "Impe,             3\n",
       "Planke,           3\n",
       "Mlle              2\n",
       "Major             2\n",
       "Gordon,           2\n",
       "Col               2\n",
       "Cruyssen,         1\n",
       "Billiard,         1\n",
       "the               1\n",
       "Pelsmaeker,       1\n",
       "Velde,            1\n",
       "Messemaeker,      1\n",
       "Steen,            1\n",
       "Shawah,           1\n",
       "der               1\n",
       "Mulder,           1\n",
       "Carlo,            1\n",
       "Mme               1\n",
       "Ms                1\n",
       "Melkebeke,        1\n",
       "Don               1\n",
       "Walle,            1\n",
       "Capt              1\n",
       "Jonkheer          1\n",
       "Name: Title, dtype: int64"
      ]
     },
     "execution_count": 87,
     "metadata": {},
     "output_type": "execute_result"
    }
   ],
   "source": [
    "train['Title'].value_counts()"
   ]
  },
  {
   "cell_type": "code",
   "execution_count": 107,
   "metadata": {
    "ExecuteTime": {
     "end_time": "2021-02-07T16:06:23.265988Z",
     "start_time": "2021-02-07T16:06:23.260001Z"
    }
   },
   "outputs": [],
   "source": [
    "# Feature engineering using Ticket column \n",
    "# Comparing how many tickets are fully numeric\n",
    "# Extracting\n",
    "train['Ticket_Numeric'] = train.Ticket.apply(lambda x: 1 if x.isnumeric() else 0)\n",
    "train['Ticket_Letter'] = train.Ticket.apply(lambda x: ''.join(x.split(' ')[:-1]).replace('.','').replace('/','').lower() if len(x.split(' ')[:-1]) >0 else 0)"
   ]
  },
  {
   "cell_type": "code",
   "execution_count": 113,
   "metadata": {
    "ExecuteTime": {
     "end_time": "2021-02-07T16:15:48.789444Z",
     "start_time": "2021-02-07T16:15:48.783460Z"
    }
   },
   "outputs": [
    {
     "data": {
      "text/plain": [
       "1    661\n",
       "0    230\n",
       "Name: Ticket_Numeric, dtype: int64"
      ]
     },
     "execution_count": 113,
     "metadata": {},
     "output_type": "execute_result"
    }
   ],
   "source": [
    "train['Ticket_Numeric'].value_counts()"
   ]
  },
  {
   "cell_type": "markdown",
   "metadata": {},
   "source": [
    "## Data Processing"
   ]
  },
  {
   "cell_type": "markdown",
   "metadata": {},
   "source": [
    "A few things that are very important:\n",
    "\n",
    "- Create labels for train and test dataset to split them to avoid train the model using test dataset.\n",
    "- Check for null values, depending on numeric or categorical values, I will inputt mean, median, mode, 0 or drop rows.\n",
    "- Feature engineering based on the feature engineering using the train dataset.\n",
    "- Standardize numerical values: Age, Fare, Parch, SibSp because of different value ranges.\n",
    "- Create dummy variables for categorical variables because most machine learning models only take in numeric values.\n"
   ]
  },
  {
   "cell_type": "code",
   "execution_count": 159,
   "metadata": {
    "ExecuteTime": {
     "end_time": "2021-02-07T17:26:06.817127Z",
     "start_time": "2021-02-07T17:26:06.811143Z"
    }
   },
   "outputs": [],
   "source": [
    "data['train_dataset'] = data['Survived'].apply(lambda x:0 if pd.isna(x) else 1)"
   ]
  },
  {
   "cell_type": "code",
   "execution_count": 160,
   "metadata": {
    "ExecuteTime": {
     "end_time": "2021-02-07T17:26:07.795511Z",
     "start_time": "2021-02-07T17:26:07.787532Z"
    },
    "scrolled": true
   },
   "outputs": [
    {
     "data": {
      "text/plain": [
       "Survived          418\n",
       "Pclass              0\n",
       "Name                0\n",
       "Sex                 0\n",
       "Age               263\n",
       "SibSp               0\n",
       "Parch               0\n",
       "Ticket              0\n",
       "Fare                1\n",
       "Cabin            1014\n",
       "Embarked            2\n",
       "train_dataset       0\n",
       "dtype: int64"
      ]
     },
     "execution_count": 160,
     "metadata": {},
     "output_type": "execute_result"
    }
   ],
   "source": [
    "# Checking for null values: Age: 263 null values, Fare: 1 null value, Cabin: 1014 null values, Embarker: 2 null values\n",
    "data.isnull().sum()"
   ]
  },
  {
   "cell_type": "code",
   "execution_count": 161,
   "metadata": {
    "ExecuteTime": {
     "end_time": "2021-02-07T17:26:13.501256Z",
     "start_time": "2021-02-07T17:26:13.495273Z"
    }
   },
   "outputs": [
    {
     "data": {
      "text/plain": [
       "Survived      0\n",
       "Pclass        0\n",
       "Name          0\n",
       "Sex           0\n",
       "Age         177\n",
       "SibSp         0\n",
       "Parch         0\n",
       "Ticket        0\n",
       "Fare          0\n",
       "Cabin       687\n",
       "Embarked      2\n",
       "dtype: int64"
      ]
     },
     "execution_count": 161,
     "metadata": {},
     "output_type": "execute_result"
    }
   ],
   "source": [
    "train.isnull().sum()"
   ]
  },
  {
   "cell_type": "code",
   "execution_count": 162,
   "metadata": {
    "ExecuteTime": {
     "end_time": "2021-02-07T17:26:15.291470Z",
     "start_time": "2021-02-07T17:26:15.284489Z"
    }
   },
   "outputs": [
    {
     "data": {
      "text/plain": [
       "Pclass        0\n",
       "Name          0\n",
       "Sex           0\n",
       "Age          86\n",
       "SibSp         0\n",
       "Parch         0\n",
       "Ticket        0\n",
       "Fare          1\n",
       "Cabin       327\n",
       "Embarked      0\n",
       "dtype: int64"
      ]
     },
     "execution_count": 162,
     "metadata": {},
     "output_type": "execute_result"
    }
   ],
   "source": [
    "test.isnull().sum()"
   ]
  },
  {
   "cell_type": "code",
   "execution_count": 163,
   "metadata": {
    "ExecuteTime": {
     "end_time": "2021-02-07T17:26:18.314388Z",
     "start_time": "2021-02-07T17:26:18.307408Z"
    }
   },
   "outputs": [],
   "source": [
    "# Dropping rows with null Embarked values because only training dataset has null Embarked values\n",
    "data.dropna(subset=['Embarked'], inplace=True)\n",
    "# Fill Age and Fare null values with mean values\n",
    "data['Age'].fillna(data['Age'].mean(), inplace=True)\n",
    "data['Fare'].fillna(data['Fare'].mean(), inplace=True)"
   ]
  },
  {
   "cell_type": "code",
   "execution_count": 164,
   "metadata": {
    "ExecuteTime": {
     "end_time": "2021-02-07T17:26:19.022497Z",
     "start_time": "2021-02-07T17:26:19.008533Z"
    }
   },
   "outputs": [],
   "source": [
    "# Feature engineering using the techniques in the section above\n",
    "data['Cabin_Letter'] = data['Cabin'].apply(lambda x:0 if pd.isna(x) else x[0])\n",
    "data['Cabin_Total'] = data['Cabin'].apply(lambda x:0 if pd.isna(x) else len(x.split(' ')))\n",
    "data['Title'] = data['Name'].apply(lambda x: x.split(' ')[1].split('.')[0])\n",
    "data['Ticket_Numeric'] = data['Ticket'].apply(lambda x: 1 if x.isnumeric() else 0)\n",
    "data['Ticket_Letter'] = data['Ticket'].apply(lambda x: ''.join(x.split(' ')[:-1]).replace('.','').replace('/','').lower() if len(x.split(' ')[:-1]) >0 else 0)"
   ]
  },
  {
   "cell_type": "code",
   "execution_count": 165,
   "metadata": {
    "ExecuteTime": {
     "end_time": "2021-02-07T17:26:19.695695Z",
     "start_time": "2021-02-07T17:26:19.689713Z"
    }
   },
   "outputs": [],
   "source": [
    "# Drop Name, Ticket, and Cabin columns\n",
    "data.drop(columns = ['Name', 'Ticket', 'Cabin'], inplace=True)"
   ]
  },
  {
   "cell_type": "code",
   "execution_count": 166,
   "metadata": {
    "ExecuteTime": {
     "end_time": "2021-02-07T17:26:20.305068Z",
     "start_time": "2021-02-07T17:26:20.291105Z"
    }
   },
   "outputs": [],
   "source": [
    "# Create dummy variables for categorical variables\n",
    "data = pd.get_dummies(data, columns=['Pclass', 'Sex', 'Embarked', 'Cabin_Letter', 'Cabin_Total', 'Title', 'Ticket_Numeric', 'Ticket_Letter'])"
   ]
  },
  {
   "cell_type": "code",
   "execution_count": 167,
   "metadata": {
    "ExecuteTime": {
     "end_time": "2021-02-07T17:26:20.999211Z",
     "start_time": "2021-02-07T17:26:20.988240Z"
    }
   },
   "outputs": [],
   "source": [
    "# Standardize numerica values\n",
    "data[['Age','SibSp','Parch','Fare']] = StandardScaler().fit_transform(data[['Age','SibSp','Parch','Fare']])"
   ]
  },
  {
   "cell_type": "code",
   "execution_count": 179,
   "metadata": {
    "ExecuteTime": {
     "end_time": "2021-02-07T17:35:37.768727Z",
     "start_time": "2021-02-07T17:35:37.761749Z"
    }
   },
   "outputs": [
    {
     "name": "stdout",
     "output_type": "stream",
     "text": [
      "X_train: shape (889, 99), X_test: shape(418, 99), y_train: shape(889,)\n"
     ]
    }
   ],
   "source": [
    "# Split data into training and testing dataset for model building\n",
    "X_train = data[data['train_dataset'] == 1]\n",
    "X_test = data[data['train_dataset'] == 0]\n",
    "y_train = data.loc[data['train_dataset'] == 1, 'Survived']\n",
    "print('X_train: shape {}, X_test: shape{}, y_train: shape{}'.format(X_train.shape, X_test.shape, y_train.shape))"
   ]
  },
  {
   "cell_type": "code",
   "execution_count": 180,
   "metadata": {
    "ExecuteTime": {
     "end_time": "2021-02-07T17:35:40.296969Z",
     "start_time": "2021-02-07T17:35:40.289988Z"
    }
   },
   "outputs": [
    {
     "name": "stderr",
     "output_type": "stream",
     "text": [
      "D:\\Anaconda\\lib\\site-packages\\pandas\\core\\frame.py:3990: SettingWithCopyWarning: \n",
      "A value is trying to be set on a copy of a slice from a DataFrame\n",
      "\n",
      "See the caveats in the documentation: https://pandas.pydata.org/pandas-docs/stable/user_guide/indexing.html#returning-a-view-versus-a-copy\n",
      "  return super().drop(\n"
     ]
    }
   ],
   "source": [
    "# Drop Survived and train_dataset columns from training and testing datasets\n",
    "X_train.drop(columns=['Survived', 'train_dataset'], inplace=True)\n",
    "X_test.drop(columns=['Survived', 'train_dataset'], inplace=True)"
   ]
  },
  {
   "cell_type": "markdown",
   "metadata": {},
   "source": [
    "## Model Building"
   ]
  },
  {
   "cell_type": "markdown",
   "metadata": {},
   "source": [
    "In this section, I will use baseline models without fine-tuning hyperparameters and use K-Fold Cross Validation to give a more accurate measure of each model's performance. I will use four models: **Logistic Regression, K-Nearest Neighbors, Random Forest and XGBoost**."
   ]
  },
  {
   "cell_type": "markdown",
   "metadata": {},
   "source": [
    "Model Performance (Accuracy):\n",
    "\n",
    "- Logistic Regression: 82.23%\n",
    "- Support Vector Machine: 83.13% Works pretty well here because support vector machine works better for small datasets than larger ones\n",
    "- K-Nearest Neighbors: 81.44%\n",
    "- Random Forest Classifier: 81.21%\n",
    "- XGBoost Classifier: 82.34%"
   ]
  },
  {
   "cell_type": "code",
   "execution_count": 184,
   "metadata": {
    "ExecuteTime": {
     "end_time": "2021-02-07T18:00:38.281896Z",
     "start_time": "2021-02-07T18:00:37.746329Z"
    }
   },
   "outputs": [
    {
     "name": "stdout",
     "output_type": "stream",
     "text": [
      "Accuracy for Logistic Regression:  0.8222560782073256\n"
     ]
    }
   ],
   "source": [
    "# Logistic Regression\n",
    "lr = LogisticRegression()\n",
    "cv = KFold(n_splits=5, shuffle=True, random_state=1)\n",
    "lr_scores = cross_val_score(lr, X_train, y_train, cv=cv)\n",
    "print('Accuracy for Logistic Regression: ', lr_scores.mean())"
   ]
  },
  {
   "cell_type": "code",
   "execution_count": 196,
   "metadata": {
    "ExecuteTime": {
     "end_time": "2021-02-07T18:09:38.509663Z",
     "start_time": "2021-02-07T18:09:37.767648Z"
    }
   },
   "outputs": [
    {
     "name": "stdout",
     "output_type": "stream",
     "text": [
      "Accuracy for Support Vector Machine:  0.8312575382466832\n"
     ]
    }
   ],
   "source": [
    "# Support Vector Machine\n",
    "svm = SVC()\n",
    "svm_scores = cross_val_score(svm, X_train, y_train, cv=cv)\n",
    "print('Accuracy for Support Vector Machine: ', svm_scores.mean())"
   ]
  },
  {
   "cell_type": "code",
   "execution_count": 186,
   "metadata": {
    "ExecuteTime": {
     "end_time": "2021-02-07T18:01:56.611483Z",
     "start_time": "2021-02-07T18:01:56.072923Z"
    }
   },
   "outputs": [
    {
     "name": "stdout",
     "output_type": "stream",
     "text": [
      "Accuracy for K-Nearest Neighbors:  0.8144099536596204\n"
     ]
    }
   ],
   "source": [
    "# K-Nearest Neighbors\n",
    "knn = KNeighborsClassifier()\n",
    "knn_scores = cross_val_score(knn, X_train, y_train, cv=cv)\n",
    "print('Accuracy for K-Nearest Neighbors: ', knn_scores.mean())"
   ]
  },
  {
   "cell_type": "code",
   "execution_count": 193,
   "metadata": {
    "ExecuteTime": {
     "end_time": "2021-02-07T18:07:25.305316Z",
     "start_time": "2021-02-07T18:07:24.533381Z"
    }
   },
   "outputs": [
    {
     "name": "stdout",
     "output_type": "stream",
     "text": [
      "Accuracy for Random Forest:  0.8121373706595569\n"
     ]
    }
   ],
   "source": [
    "# Random Forest Classifier\n",
    "rf = RandomForestClassifier(random_state=1)\n",
    "rf_scores = cross_val_score(rf, X_train, y_train, cv=cv)\n",
    "print('Accuracy for Random Forest: ', rf_scores.mean())"
   ]
  },
  {
   "cell_type": "code",
   "execution_count": 194,
   "metadata": {
    "ExecuteTime": {
     "end_time": "2021-02-07T18:07:38.784281Z",
     "start_time": "2021-02-07T18:07:38.030297Z"
    }
   },
   "outputs": [
    {
     "name": "stdout",
     "output_type": "stream",
     "text": [
      "Accuracy for XGBoost:  0.8234050657017711\n"
     ]
    }
   ],
   "source": [
    "# XGBoost Classifier\n",
    "xgb = XGBClassifier(eval_metric='auc', \n",
    "                    use_label_encoder=False,\n",
    "                    random_state=1)\n",
    "xgb_scores = cross_val_score(xgb, X_train, y_train, cv=cv)\n",
    "print('Accuracy for XGBoost: ', xgb_scores.mean())"
   ]
  },
  {
   "cell_type": "markdown",
   "metadata": {},
   "source": [
    "## Hyperparameters Fine-Tuning"
   ]
  },
  {
   "cell_type": "code",
   "execution_count": 204,
   "metadata": {
    "ExecuteTime": {
     "end_time": "2021-02-07T19:49:42.774691Z",
     "start_time": "2021-02-07T19:49:41.120116Z"
    }
   },
   "outputs": [
    {
     "name": "stdout",
     "output_type": "stream",
     "text": [
      "Fitting 5 folds for each of 15 candidates, totalling 75 fits\n"
     ]
    },
    {
     "name": "stderr",
     "output_type": "stream",
     "text": [
      "[Parallel(n_jobs=1)]: Using backend SequentialBackend with 1 concurrent workers.\n"
     ]
    },
    {
     "name": "stdout",
     "output_type": "stream",
     "text": [
      "Linear Regression Best Score: 0.8245223132101822, Best Parameters: {'C': 0.1, 'max_iter': 1000, 'penalty': 'l2', 'solver': 'lbfgs'}\n"
     ]
    },
    {
     "name": "stderr",
     "output_type": "stream",
     "text": [
      "[Parallel(n_jobs=1)]: Done  75 out of  75 | elapsed:    1.5s finished\n"
     ]
    }
   ],
   "source": [
    "# Fine-tuning Logistic Regression Model\n",
    "lr = LogisticRegression()\n",
    "max_iter = [1000]\n",
    "solver = ['liblinear', 'lbfgs', 'newton-cg']\n",
    "penalty = ['l2']\n",
    "c_values = [0.01,0.1,1,10,100]\n",
    "lr_grid = dict(max_iter=max_iter,solver=solver, penalty=penalty, C=c_values)\n",
    "lr_gs = GridSearchCV(lr, param_grid=lr_grid, cv=cv, verbose=1)\n",
    "lr_best = lr_gs.fit(X_train, y_train)\n",
    "print('Linear Regression Best Score: {}, Best Parameters: {}'.format(lr_best.best_score_, lr_best.best_params_))"
   ]
  },
  {
   "cell_type": "code",
   "execution_count": 208,
   "metadata": {
    "ExecuteTime": {
     "end_time": "2021-02-07T19:56:47.432065Z",
     "start_time": "2021-02-07T19:56:43.294072Z"
    }
   },
   "outputs": [
    {
     "name": "stdout",
     "output_type": "stream",
     "text": [
      "Fitting 5 folds for each of 18 candidates, totalling 90 fits\n"
     ]
    },
    {
     "name": "stderr",
     "output_type": "stream",
     "text": [
      "[Parallel(n_jobs=1)]: Using backend SequentialBackend with 1 concurrent workers.\n"
     ]
    },
    {
     "name": "stdout",
     "output_type": "stream",
     "text": [
      "Support Vector Machine Best Score: 0.8312575382466832, Best Parameters: {'C': 1, 'gamma': 'scale', 'kernel': 'rbf'}\n"
     ]
    },
    {
     "name": "stderr",
     "output_type": "stream",
     "text": [
      "[Parallel(n_jobs=1)]: Done  90 out of  90 | elapsed:    4.0s finished\n"
     ]
    }
   ],
   "source": [
    "# Fine-tuning Support Vector Machine\n",
    "svm = SVC()\n",
    "kernel = ['poly', 'rbf', 'sigmoid']\n",
    "c_values = [100,50,10,1,0.1,0.001]\n",
    "gamma = ['scale']\n",
    "svm_grid = dict(kernel=kernel, C=c_values, gamma=gamma)\n",
    "svm_gs = GridSearchCV(svm, param_grid=svm_grid, cv=cv, verbose=1)\n",
    "svm_best = svm_gs.fit(X_train, y_train)\n",
    "print('Support Vector Machine Best Score: {}, Best Parameters: {}'.format(svm_best.best_score_, svm_best.best_params_))"
   ]
  },
  {
   "cell_type": "code",
   "execution_count": 209,
   "metadata": {
    "ExecuteTime": {
     "end_time": "2021-02-07T20:03:43.521944Z",
     "start_time": "2021-02-07T20:03:35.641507Z"
    }
   },
   "outputs": [
    {
     "name": "stdout",
     "output_type": "stream",
     "text": [
      "Fitting 5 folds for each of 60 candidates, totalling 300 fits\n"
     ]
    },
    {
     "name": "stderr",
     "output_type": "stream",
     "text": [
      "[Parallel(n_jobs=1)]: Using backend SequentialBackend with 1 concurrent workers.\n"
     ]
    },
    {
     "name": "stdout",
     "output_type": "stream",
     "text": [
      "K-Nearest Neighbors Best Score: 0.8278677077382086, Best Parameters: {'metric': 'euclidean', 'n_neighbors': 17, 'weights': 'uniform'}\n"
     ]
    },
    {
     "name": "stderr",
     "output_type": "stream",
     "text": [
      "[Parallel(n_jobs=1)]: Done 300 out of 300 | elapsed:    7.8s finished\n"
     ]
    }
   ],
   "source": [
    "# Fine-tuning K-Nearest Neighbors\n",
    "knn = KNeighborsClassifier()\n",
    "n_neighbors = range(1,21,2)\n",
    "metric = ['euclidean', 'manhattan', 'minkowski']\n",
    "weights = ['uniform','distance']\n",
    "knn_grid = dict(n_neighbors=n_neighbors, metric=metric, weights=weights)\n",
    "knn_gs = GridSearchCV(knn, param_grid=knn_grid, cv=cv, verbose=1)\n",
    "knn_best = knn_gs.fit(X_train, y_train)\n",
    "print('K-Nearest Neighbors Best Score: {}, Best Parameters: {}'.format(knn_best.best_score_, knn_best.best_params_))"
   ]
  },
  {
   "cell_type": "code",
   "execution_count": 212,
   "metadata": {
    "ExecuteTime": {
     "end_time": "2021-02-07T20:34:27.723777Z",
     "start_time": "2021-02-07T20:30:56.107530Z"
    },
    "scrolled": true
   },
   "outputs": [
    {
     "name": "stdout",
     "output_type": "stream",
     "text": [
      "Fitting 5 folds for each of 150 candidates, totalling 750 fits\n"
     ]
    },
    {
     "name": "stderr",
     "output_type": "stream",
     "text": [
      "[Parallel(n_jobs=-1)]: Using backend LokyBackend with 12 concurrent workers.\n",
      "[Parallel(n_jobs=-1)]: Done   1 tasks      | elapsed:    4.2s\n",
      "[Parallel(n_jobs=-1)]: Done  74 tasks      | elapsed:   20.5s\n",
      "[Parallel(n_jobs=-1)]: Done 197 tasks      | elapsed:   57.0s\n",
      "[Parallel(n_jobs=-1)]: Done 368 tasks      | elapsed:  1.7min\n",
      "[Parallel(n_jobs=-1)]: Done 589 tasks      | elapsed:  2.7min\n",
      "[Parallel(n_jobs=-1)]: Done 750 out of 750 | elapsed:  3.5min finished\n"
     ]
    },
    {
     "name": "stdout",
     "output_type": "stream",
     "text": [
      "Random Forest Score: 0.8368691677775661, Best Parameters: {'n_estimators': 200, 'min_samples_split': 10, 'min_samples_leaf': 1, 'max_features': 'auto', 'max_depth': 20, 'bootstrap': False}\n"
     ]
    }
   ],
   "source": [
    "# Fine-tuning Random Forest \n",
    "# Random Forest, as an ensemble machine learning algorithm, builds a number of decision trees and takes a 'majority wins' rule to decide \n",
    "# each observation's class. Because for each random forest model, it builds numerous trees, it takes more computational running time.\n",
    "# I will use a Randomized Search CV first to narrow down the range for the best hyperparameters and use a Grid Search CV to \n",
    "# identify the best ones\n",
    "n_estimators = [int(x) for x in np.linspace(start=200,stop=2000,num=10)]\n",
    "max_features = ['auto', 'sqrt']\n",
    "max_depth = [int(x) for x in np.linspace(10,110,num=11)]\n",
    "max_depth.append(None)\n",
    "min_samples_split = [2,5,10]\n",
    "min_samples_leaf = [1,2,4]\n",
    "bootstrap = [True, False]\n",
    "\n",
    "random_grid = {'n_estimators': n_estimators,\n",
    "               'max_features': max_features,\n",
    "               'max_depth': max_depth,\n",
    "               'min_samples_split': min_samples_split,\n",
    "               'min_samples_leaf': min_samples_leaf,\n",
    "               'bootstrap': bootstrap}\n",
    "\n",
    "rf = RandomForestClassifier(random_state=1)\n",
    "rf_random_grid = RandomizedSearchCV(rf, \n",
    "                                    param_distributions=random_grid,\n",
    "                                    cv=cv,\n",
    "                                    n_iter=150,\n",
    "                                    verbose=4,\n",
    "                                    random_state=1,\n",
    "                                    n_jobs=-1) \n",
    "rf_random_best = rf_random_grid.fit(X_train, y_train)\n",
    "print('Random Forest Score: {}, Best Parameters: {}'.format(rf_random_best.best_score_, rf_random_best.best_params_))"
   ]
  },
  {
   "cell_type": "code",
   "execution_count": 214,
   "metadata": {
    "ExecuteTime": {
     "end_time": "2021-02-07T20:42:02.408354Z",
     "start_time": "2021-02-07T20:41:08.990167Z"
    }
   },
   "outputs": [
    {
     "name": "stdout",
     "output_type": "stream",
     "text": [
      "Random Forest Score: 0.8380118072748047, Best Parameters: {'bootstrap': False, 'max_depth': 25, 'max_features': 'auto', 'min_samples_leaf': 1, 'min_samples_split': 12, 'n_estimators': 100}\n"
     ]
    }
   ],
   "source": [
    "rf=RandomForestClassifier(random_state=1)\n",
    "\n",
    "random_grid_GS = {'n_estimators': [100,200,400,600],\n",
    "                  'max_features': ['auto'],\n",
    "                  'max_depth': [10,15,20,25],\n",
    "                  'min_samples_split': [8,10,12],\n",
    "                  'min_samples_leaf': [1,2,4],\n",
    "                  'bootstrap': [False]}\n",
    "\n",
    "rf_gs_grid = GridSearchCV(rf,\n",
    "                          param_grid = random_grid_GS,\n",
    "                          cv=cv,\n",
    "                          n_jobs=-1)\n",
    "rf_best = rf_gs_grid.fit(X_train, y_train)\n",
    "print('Random Forest Score: {}, Best Parameters: {}'.format(rf_best.best_score_, rf_best.best_params_))"
   ]
  },
  {
   "cell_type": "code",
   "execution_count": 222,
   "metadata": {
    "ExecuteTime": {
     "end_time": "2021-02-07T21:41:35.622513Z",
     "start_time": "2021-02-07T21:38:59.679426Z"
    }
   },
   "outputs": [
    {
     "name": "stdout",
     "output_type": "stream",
     "text": [
      "Fitting 5 folds for each of 150 candidates, totalling 750 fits\n"
     ]
    },
    {
     "name": "stderr",
     "output_type": "stream",
     "text": [
      "[Parallel(n_jobs=-1)]: Using backend LokyBackend with 12 concurrent workers.\n",
      "[Parallel(n_jobs=-1)]: Done  26 tasks      | elapsed:    4.6s\n",
      "[Parallel(n_jobs=-1)]: Done 176 tasks      | elapsed:   27.9s\n",
      "[Parallel(n_jobs=-1)]: Done 426 tasks      | elapsed:  1.5min\n"
     ]
    },
    {
     "name": "stdout",
     "output_type": "stream",
     "text": [
      "XGBoost Score: 0.8436043928140672, Best Parameters: {'subsample': 0.6, 'n_estimators': 100, 'min_child_weight': 3, 'max_depth': 7, 'learning_rate': 0.1, 'gamma': 2, 'colsample_bytree': 1.0}\n"
     ]
    },
    {
     "name": "stderr",
     "output_type": "stream",
     "text": [
      "[Parallel(n_jobs=-1)]: Done 750 out of 750 | elapsed:  2.6min finished\n"
     ]
    }
   ],
   "source": [
    "# Finet-tuning XGBoost model\n",
    "# XGBoost Classifier is also a decision-tree based ensemble machine learning algorithem which uses a gradient boosting structure.\n",
    "# It is different than Random Forest classifier because while decision trees are bulid independently of each other in Random Forest,\n",
    "# they are built in succession in XGBoost classifier. Each tree is built to fit the residual error made by the previous one.\n",
    "# Theoretically, it is an extremely effective model nowadays.\n",
    "xgb = XGBClassifier(eval_metric='auc',\n",
    "                    use_label_encoder=False)\n",
    "\n",
    "xgb_random_grid = {\"learning_rate\": [0.1, 0.01, 0.001],\n",
    "                   \"gamma\" : [0.01, 0.1, 0.3, 0.5, 1, 1.5, 2],\n",
    "                   \"max_depth\": [2, 4, 7, 10],\n",
    "                   \"colsample_bytree\": [0.3, 0.6, 0.8, 1.0],\n",
    "                   \"subsample\": [0.2, 0.4, 0.5, 0.6, 0.7],\n",
    "                   \"min_child_weight\": [1, 3, 5, 7],\n",
    "                   \"n_estimators\": [100, 250, 500, 1000]}\n",
    "\n",
    "xgb_rs = RandomizedSearchCV(xgb, \n",
    "                            param_distributions = xgb_random_grid,\n",
    "                            n_iter = 150,\n",
    "                            n_jobs=-1,\n",
    "                            verbose = 1,\n",
    "                            cv=cv,\n",
    "                            random_state=1)\n",
    "\n",
    "xgb_rs_best = xgb_rs.fit(X_train, y_train)\n",
    "print('XGBoost Score: {}, Best Parameters: {}'.format(xgb_rs_best.best_score_, xgb_rs_best.best_params_))"
   ]
  },
  {
   "cell_type": "code",
   "execution_count": 223,
   "metadata": {
    "ExecuteTime": {
     "end_time": "2021-02-07T21:42:59.005591Z",
     "start_time": "2021-02-07T21:42:36.654347Z"
    }
   },
   "outputs": [
    {
     "name": "stdout",
     "output_type": "stream",
     "text": [
      "Fitting 5 folds for each of 36 candidates, totalling 180 fits\n"
     ]
    },
    {
     "name": "stderr",
     "output_type": "stream",
     "text": [
      "[Parallel(n_jobs=-1)]: Using backend LokyBackend with 12 concurrent workers.\n",
      "[Parallel(n_jobs=-1)]: Done  26 tasks      | elapsed:    2.8s\n",
      "[Parallel(n_jobs=-1)]: Done 180 out of 180 | elapsed:   21.9s finished\n"
     ]
    },
    {
     "name": "stdout",
     "output_type": "stream",
     "text": [
      "XGBoost Best Score: 0.8492414143337778, Best Parameters: {'colsample_bytree': 1, 'gamma': 2, 'learning_rate': 0.1, 'max_depth': 7, 'min_child_weight': 3, 'n_estimators': 200, 'subsample': 0.6}\n"
     ]
    }
   ],
   "source": [
    "xgb = XGBClassifier(eval_metric='auc',\n",
    "                    use_label_encoder=False)\n",
    "\n",
    "xgb_grid_GS = {\"learning_rate\": [0.1,1],\n",
    "               \"gamma\" : [2],\n",
    "               \"max_depth\": [7],\n",
    "               \"colsample_bytree\": [0.5,0.7,1],\n",
    "               \"subsample\": [0.6],\n",
    "               \"min_child_weight\": [3,5],\n",
    "               \"n_estimators\": [100,200,400]}\n",
    "\n",
    "xgb_gs_grid = GridSearchCV(xgb, \n",
    "                           param_grid=xgb_grid_GS,\n",
    "                           cv=cv,\n",
    "                           n_jobs=-1, \n",
    "                           verbose=1)\n",
    "\n",
    "xgb_best = xgb_gs_grid.fit(X_train, y_train)\n",
    "print('XGBoost Best Score: {}, Best Parameters: {}'.format(xgb_best.best_score_, xgb_best.best_params_))"
   ]
  },
  {
   "cell_type": "markdown",
   "metadata": {},
   "source": [
    "**After fine-tuning each model's hyperparameters, below is the result.**\n",
    "\n",
    "| Model      | Baseline Performance | Tuned Performance |\n",
    "| ----------- | ----------- |  ----------- | \n",
    "| Logistic Regression      |    82.23%    |   **82.45%**        |\n",
    "| Support Vector Machine   |   83.13%      |  **83.13%**       |\n",
    "| K-Nearest Neighbors |  81.44%    |     **82.79%**         |\n",
    "| Random Forest  |   81.21%  |  **83.80%** |\n",
    "| XGBoost Classifier  | 82.34% |  **84.92%**  |\n"
   ]
  },
  {
   "cell_type": "markdown",
   "metadata": {},
   "source": [
    "**Results**\n",
    "\n",
    "**-XGBoost Classifier has the best performance after tuning hyperparameters, so I will use it to predict survival status on the test dataset.**"
   ]
  },
  {
   "cell_type": "code",
   "execution_count": 225,
   "metadata": {
    "ExecuteTime": {
     "end_time": "2021-02-07T21:48:03.479090Z",
     "start_time": "2021-02-07T21:48:03.469119Z"
    }
   },
   "outputs": [],
   "source": [
    "y_hat = xgb_gs_grid.best_estimator_.predict(X_test)"
   ]
  },
  {
   "cell_type": "code",
   "execution_count": 229,
   "metadata": {
    "ExecuteTime": {
     "end_time": "2021-02-07T21:51:31.628791Z",
     "start_time": "2021-02-07T21:51:31.184978Z"
    }
   },
   "outputs": [],
   "source": [
    "PassengerId = range(892, 1310)\n",
    "predicted_test = pd.DataFrame({'PassengerId': PassengerId, 'Survived': y_hat})\n",
    "predicted_test.to_csv('test_results.csv', index=False)"
   ]
  }
 ],
 "metadata": {
  "kernelspec": {
   "display_name": "Python 3",
   "language": "python",
   "name": "python3"
  },
  "language_info": {
   "codemirror_mode": {
    "name": "ipython",
    "version": 3
   },
   "file_extension": ".py",
   "mimetype": "text/x-python",
   "name": "python",
   "nbconvert_exporter": "python",
   "pygments_lexer": "ipython3",
   "version": "3.8.3"
  },
  "varInspector": {
   "cols": {
    "lenName": 16,
    "lenType": 16,
    "lenVar": 40
   },
   "kernels_config": {
    "python": {
     "delete_cmd_postfix": "",
     "delete_cmd_prefix": "del ",
     "library": "var_list.py",
     "varRefreshCmd": "print(var_dic_list())"
    },
    "r": {
     "delete_cmd_postfix": ") ",
     "delete_cmd_prefix": "rm(",
     "library": "var_list.r",
     "varRefreshCmd": "cat(var_dic_list()) "
    }
   },
   "types_to_exclude": [
    "module",
    "function",
    "builtin_function_or_method",
    "instance",
    "_Feature"
   ],
   "window_display": false
  }
 },
 "nbformat": 4,
 "nbformat_minor": 4
}
